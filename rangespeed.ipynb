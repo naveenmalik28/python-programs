{
 "cells": [
  {
   "cell_type": "code",
   "execution_count": 8,
   "metadata": {},
   "outputs": [
    {
     "name": "stdout",
     "output_type": "stream",
     "text": [
      " 1 4 9 16 25 36 49"
     ]
    }
   ],
   "source": [
    "n=7\n",
    "for x in range(1,n+1):\n",
    "    print(\" \"+str(x*x),end=\"\")"
   ]
  },
  {
   "cell_type": "code",
   "execution_count": 1,
   "metadata": {},
   "outputs": [
    {
     "name": "stdout",
     "output_type": "stream",
     "text": [
      " 1 4 9 16 25 36 49 64 81 100"
     ]
    }
   ],
   "source": [
    "n=10\n",
    "for x in range(1,n+1):\n",
    "    print(\" \"+str(x*x),end=\"\")"
   ]
  },
  {
   "cell_type": "code",
   "execution_count": 2,
   "metadata": {},
   "outputs": [
    {
     "name": "stdout",
     "output_type": "stream",
     "text": [
      "Enter distance:45\n",
      "Enter time:12\n",
      "Speed= 3.75\n"
     ]
    }
   ],
   "source": [
    "Speed=distance/time\n",
    "print(\"Speed=\",Speed)"
   ]
  },
  {
   "cell_type": "code",
   "execution_count": 7,
   "metadata": {},
   "outputs": [
    {
     "name": "stdout",
     "output_type": "stream",
     "text": [
      "Enter distance:50\n",
      "Enter time:10\n",
      "5.0\n"
     ]
    }
   ],
   "source": [
    "def Speed():\n",
    "    distance=float(input(\"Enter distance:\"))\n",
    "    time=float(input(\"Enter time:\"))\n",
    "    s=distance/time\n",
    "    print(s)\n",
    "Speed()"
   ]
  },
  {
   "cell_type": "code",
   "execution_count": 4,
   "metadata": {},
   "outputs": [
    {
     "name": "stdout",
     "output_type": "stream",
     "text": [
      "Enter First Number:45\n",
      "Enter Second Number:50\n",
      "Addition is 95\n",
      "Product is 2250\n"
     ]
    }
   ],
   "source": [
    "class Base:\n",
    "    a=int(input(\"Enter First Number:\"))\n",
    "    b=int(input(\"Enter Second Number:\"))\n",
    "class DerivedA(Base):\n",
    "    def sum(self):\n",
    "        add=self.a + self.b\n",
    "        print(\"Addition is\",add)\n",
    "class DerivedB(Base):\n",
    "    def mul(self):\n",
    "        mult=self.a * self.b\n",
    "        print(\"Product is\",mult)\n",
    "dA=DerivedA()\n",
    "dB=DerivedB()\n",
    "dA.sum()\n",
    "dB.mul()"
   ]
  },
  {
   "cell_type": "markdown",
   "metadata": {},
   "source": []
  },
  {
   "cell_type": "code",
   "execution_count": 9,
   "metadata": {},
   "outputs": [
    {
     "name": "stdout",
     "output_type": "stream",
     "text": [
      "**\n",
      "***\n",
      "****\n",
      "*****\n",
      "******\n"
     ]
    }
   ],
   "source": [
    "for i in range(1,6):\n",
    "    for j in range(1,i+2):\n",
    "        print(\"*\",end=\"\")\n",
    "    print()"
   ]
  },
  {
   "cell_type": "code",
   "execution_count": null,
   "metadata": {},
   "outputs": [],
   "source": []
  },
  {
   "cell_type": "code",
   "execution_count": 11,
   "metadata": {},
   "outputs": [
    {
     "name": "stdout",
     "output_type": "stream",
     "text": [
      "     *\n",
      "    ***\n",
      "   *****\n",
      "  *******\n",
      " *********\n"
     ]
    }
   ],
   "source": [
    "inc=1\n",
    "for x in range(5,0,-1):\n",
    "    for y in range(x,0,-1):\n",
    "        print(\" \",end=\"\")\n",
    "    print(\"*\"*inc)\n",
    "    inc+=2;"
   ]
  },
  {
   "cell_type": "code",
   "execution_count": 1,
   "metadata": {},
   "outputs": [
    {
     "name": "stdout",
     "output_type": "stream",
     "text": [
      "Enter X:45\n",
      "Enter Y:34\n",
      "Swapping of 45 34\n",
      "After Swapping 34 45\n"
     ]
    }
   ],
   "source": [
    "x=int(input(\"Enter X:\"))\n",
    "y=int(input(\"Enter Y:\"))\n",
    "print(\"Swapping of %d %d\"%(x,y))\n",
    "t=x\n",
    "x=y\n",
    "y=t\n",
    "print(\"After Swapping\",x,y)"
   ]
  },
  {
   "cell_type": "code",
   "execution_count": null,
   "metadata": {},
   "outputs": [],
   "source": []
  }
 ],
 "metadata": {
  "kernelspec": {
   "display_name": "Python 3",
   "language": "python",
   "name": "python3"
  },
  "language_info": {
   "codemirror_mode": {
    "name": "ipython",
    "version": 3
   },
   "file_extension": ".py",
   "mimetype": "text/x-python",
   "name": "python",
   "nbconvert_exporter": "python",
   "pygments_lexer": "ipython3",
   "version": "3.9.2"
  }
 },
 "nbformat": 4,
 "nbformat_minor": 4
}
