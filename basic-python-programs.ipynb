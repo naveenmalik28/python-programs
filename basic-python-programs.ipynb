{
 "cells": [
  {
   "cell_type": "code",
   "execution_count": 2,
   "metadata": {},
   "outputs": [
    {
     "name": "stdout",
     "output_type": "stream",
     "text": [
      "Enter first number:24\n",
      "Enter second number:8\n",
      "32.0\n",
      "16.0\n",
      "192.0\n",
      "3.0\n"
     ]
    }
   ],
   "source": [
    "#store numbers\n",
    "a=input(\"Enter first number:\")\n",
    "b=input(\"Enter second number:\")\n",
    "#sum\n",
    "sum=float(a)+float(b)\n",
    "#subtract\n",
    "sub=float(a)-float(b)\n",
    "#multiply\n",
    "mul=float(a)*float(b)\n",
    "#division\n",
    "div=float(a)/float(b)\n",
    "print(sum)\n",
    "print(sub)\n",
    "print(mul)\n",
    "print(div)"
   ]
  },
  {
   "cell_type": "code",
   "execution_count": 1,
   "metadata": {},
   "outputs": [
    {
     "name": "stdout",
     "output_type": "stream",
     "text": [
      "['welcome', 'to', 'the', 'jungle']\n"
     ]
    }
   ],
   "source": [
    "#split function\n",
    "txt = \"welcome to the jungle\"\n",
    "\n",
    "x = txt.split()\n",
    "\n",
    "print(x)"
   ]
  },
  {
   "cell_type": "code",
   "execution_count": 4,
   "metadata": {},
   "outputs": [
    {
     "name": "stdout",
     "output_type": "stream",
     "text": [
      "Enter Text:Hi everyone, my name is Naveen Malik\n",
      "['Hi', 'everyone,', 'my', 'name', 'is', 'Naveen', 'Malik']\n",
      "['everyone,', 'my', 'name', 'is']\n"
     ]
    }
   ],
   "source": [
    "txt=str(input(\"Enter Text:\"))\n",
    "x=txt.split()\n",
    "print(x)\n",
    "print(x[1:5])"
   ]
  },
  {
   "cell_type": "code",
   "execution_count": 2,
   "metadata": {},
   "outputs": [
    {
     "data": {
      "text/plain": [
       "3"
      ]
     },
     "execution_count": 2,
     "metadata": {},
     "output_type": "execute_result"
    }
   ],
   "source": [
    "#floor division\n",
    "16//5"
   ]
  },
  {
   "cell_type": "code",
   "execution_count": 3,
   "metadata": {},
   "outputs": [
    {
     "data": {
      "text/plain": [
       "3.2"
      ]
     },
     "execution_count": 3,
     "metadata": {},
     "output_type": "execute_result"
    }
   ],
   "source": [
    "#division\n",
    "16/5"
   ]
  },
  {
   "cell_type": "code",
   "execution_count": 5,
   "metadata": {},
   "outputs": [
    {
     "name": "stdout",
     "output_type": "stream",
     "text": [
      "Your One Time Password is\n",
      "2932\n"
     ]
    }
   ],
   "source": [
    "import random as r\n",
    "#function for OTP Generation\n",
    "def otpgen():\n",
    "    otp=\"\"\n",
    "    for i in range(4):\n",
    "        otp+=str(r.randint(1,9))\n",
    "    print(\"Your One Time Password is\")\n",
    "    print(otp)\n",
    "otpgen()"
   ]
  },
  {
   "cell_type": "code",
   "execution_count": null,
   "metadata": {},
   "outputs": [],
   "source": []
  }
 ],
 "metadata": {
  "kernelspec": {
   "display_name": "Python 3",
   "language": "python",
   "name": "python3"
  },
  "language_info": {
   "codemirror_mode": {
    "name": "ipython",
    "version": 3
   },
   "file_extension": ".py",
   "mimetype": "text/x-python",
   "name": "python",
   "nbconvert_exporter": "python",
   "pygments_lexer": "ipython3",
   "version": "3.9.2"
  }
 },
 "nbformat": 4,
 "nbformat_minor": 4
}
