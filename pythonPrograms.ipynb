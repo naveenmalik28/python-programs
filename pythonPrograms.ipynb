{
 "cells": [
  {
   "cell_type": "code",
   "execution_count": 1,
   "id": "descending-charleston",
   "metadata": {},
   "outputs": [
    {
     "name": "stdout",
     "output_type": "stream",
     "text": [
      "Hello Python\n"
     ]
    }
   ],
   "source": [
    "print(\"Hello Python\")"
   ]
  },
  {
   "cell_type": "code",
   "execution_count": 4,
   "id": "noticed-diana",
   "metadata": {},
   "outputs": [
    {
     "name": "stdout",
     "output_type": "stream",
     "text": [
      "Enter X:40\n",
      "Enter y:50\n",
      "y is greater than x\n"
     ]
    }
   ],
   "source": [
    "x=int(input(\"Enter X:\"))\n",
    "y=int(input(\"Enter y:\"))\n",
    "if x>y:\n",
    "    print(\"x is greater than y\")\n",
    "else:\n",
    "    print(\"y is greater than x\")"
   ]
  },
  {
   "cell_type": "code",
   "execution_count": 5,
   "id": "natural-running",
   "metadata": {},
   "outputs": [
    {
     "name": "stdout",
     "output_type": "stream",
     "text": [
      "Are you Male(y/n):y\n",
      "Gender: Male\n"
     ]
    }
   ],
   "source": [
    "Gender=input(\"Are you Male(y/n):\")\n",
    "if Gender=='y' or Gender=='Y':\n",
    "    print(\"Gender: Male\")\n",
    "else:\n",
    "    print(\"Gender: Female\")"
   ]
  },
  {
   "cell_type": "code",
   "execution_count": 6,
   "id": "automotive-firewall",
   "metadata": {},
   "outputs": [
    {
     "name": "stdout",
     "output_type": "stream",
     "text": [
      "Enter the number:5\n",
      "1\n",
      "2\n",
      "6\n",
      "24\n",
      "120\n"
     ]
    }
   ],
   "source": [
    "n=int(input(\"Enter the number:\"))\n",
    "fact=1\n",
    "i=1\n",
    "while(i<=n):\n",
    "    fact=fact*i\n",
    "    i=i+1\n",
    "    print(fact)"
   ]
  },
  {
   "cell_type": "code",
   "execution_count": 7,
   "id": "concerned-graham",
   "metadata": {},
   "outputs": [
    {
     "name": "stdout",
     "output_type": "stream",
     "text": [
      "Hindi:70\n",
      "English:90\n",
      "Maths:80\n",
      "Percentage 80.0 %\n",
      "Total Marks: 240\n",
      "First Class\n"
     ]
    }
   ],
   "source": [
    "h=int(input(\"Hindi:\"))\n",
    "e=int(input(\"English:\"))\n",
    "m=int(input(\"Maths:\"))\n",
    "total=h+e+m\n",
    "p=total/3\n",
    "print(\"Percentage\",p,\"%\")\n",
    "print(\"Total Marks:\",total)\n",
    "if p<35:\n",
    "    print(\"Fail\")\n",
    "elif p>=35 and p<=60:\n",
    "    print(\"Second Class\")\n",
    "elif p>=61 and p<=80:\n",
    "    print(\"First Class\")\n",
    "else:\n",
    "    print(\"Toppers\")"
   ]
  },
  {
   "cell_type": "code",
   "execution_count": 8,
   "id": "aquatic-arthritis",
   "metadata": {},
   "outputs": [
    {
     "name": "stdout",
     "output_type": "stream",
     "text": [
      "15\n",
      "25\n",
      "45\n"
     ]
    }
   ],
   "source": [
    "def my_function(x):\n",
    "  return 5 * x\n",
    "\n",
    "print(my_function(3))\n",
    "print(my_function(5))\n",
    "print(my_function(9))"
   ]
  },
  {
   "cell_type": "code",
   "execution_count": 9,
   "id": "administrative-serbia",
   "metadata": {},
   "outputs": [
    {
     "name": "stdout",
     "output_type": "stream",
     "text": [
      "Name of Player:Naveen Malik\n",
      "Shirt Number:7\n",
      "My name is Naveen Malik\n",
      "My Shirt Number is 7\n"
     ]
    }
   ],
   "source": [
    "class Football:\n",
    "    n=str(input(\"Name of Player:\"))\n",
    "    m=int(input(\"Shirt Number:\"))\n",
    "    def Team(self):\n",
    "        print(\"My name is\",self.n)\n",
    "        print(\"My Shirt Number is\",self.m)\n",
    "player=Football()\n",
    "player.Team()"
   ]
  },
  {
   "cell_type": "code",
   "execution_count": 11,
   "id": "alternate-linux",
   "metadata": {},
   "outputs": [
    {
     "name": "stdout",
     "output_type": "stream",
     "text": [
      ".llabtoof yalp ot ekil I .kilam neevan si eman yM\n"
     ]
    }
   ],
   "source": [
    "message=\"My name is naveen malik. I like to play football.\"\n",
    "translated=''\n",
    "i=len(message)-1\n",
    "while i>=0:\n",
    "    translated=translated+message[i]\n",
    "    i=i-1\n",
    "print(translated)"
   ]
  },
  {
   "cell_type": "code",
   "execution_count": 12,
   "id": "parallel-smoke",
   "metadata": {},
   "outputs": [
    {
     "name": "stdout",
     "output_type": "stream",
     "text": [
      "*\n",
      "**\n",
      "***\n",
      "****\n",
      "*****\n"
     ]
    }
   ],
   "source": [
    "for i in range(5):\n",
    "    print((i+1)*\"*\")"
   ]
  },
  {
   "cell_type": "code",
   "execution_count": 23,
   "id": "indie-sterling",
   "metadata": {},
   "outputs": [
    {
     "name": "stdout",
     "output_type": "stream",
     "text": [
      "<class 'int'>\n",
      "<class 'str'>\n",
      "<class 'float'>\n",
      "vee\n"
     ]
    }
   ],
   "source": [
    "x=5\n",
    "y=\"naveen\"\n",
    "z=50.3\n",
    "print(type(x))\n",
    "print(type(y))\n",
    "print(type(z))\n",
    "print(y[2:5])"
   ]
  },
  {
   "cell_type": "code",
   "execution_count": null,
   "id": "urban-russell",
   "metadata": {},
   "outputs": [],
   "source": []
  }
 ],
 "metadata": {
  "kernelspec": {
   "display_name": "Python 3",
   "language": "python",
   "name": "python3"
  },
  "language_info": {
   "codemirror_mode": {
    "name": "ipython",
    "version": 3
   },
   "file_extension": ".py",
   "mimetype": "text/x-python",
   "name": "python",
   "nbconvert_exporter": "python",
   "pygments_lexer": "ipython3",
   "version": "3.9.2"
  }
 },
 "nbformat": 4,
 "nbformat_minor": 5
}
