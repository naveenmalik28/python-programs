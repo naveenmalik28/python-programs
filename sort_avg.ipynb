{
 "cells": [
  {
   "cell_type": "code",
   "execution_count": 2,
   "metadata": {},
   "outputs": [
    {
     "name": "stdout",
     "output_type": "stream",
     "text": [
      "['Volvo', 'Ford', 'BMW']\n"
     ]
    }
   ],
   "source": [
    "cars = ['Ford', 'BMW', 'Volvo']\n",
    "\n",
    "cars.sort(reverse=True)\n",
    "\n",
    "print(cars)\n"
   ]
  },
  {
   "cell_type": "code",
   "execution_count": 25,
   "metadata": {},
   "outputs": [
    {
     "ename": "IndentationError",
     "evalue": "unexpected indent (<ipython-input-25-8bcbdc82f4e1>, line 6)",
     "output_type": "error",
     "traceback": [
      "\u001b[1;36m  File \u001b[1;32m\"<ipython-input-25-8bcbdc82f4e1>\"\u001b[1;36m, line \u001b[1;32m6\u001b[0m\n\u001b[1;33m    print(next(day),next(day))\u001b[0m\n\u001b[1;37m    ^\u001b[0m\n\u001b[1;31mIndentationError\u001b[0m\u001b[1;31m:\u001b[0m unexpected indent\n"
     ]
    }
   ],
   "source": [
    "def testgen(index):\n",
    " weekdays=['sun','mon','tue','wed','thu','fri','sat']\n",
    "yield weekdays[index]\n",
    "yield weekdays[index+1]\n",
    "day = testgen(0)\n",
    " print(next(day),next(day))"
   ]
  },
  {
   "cell_type": "code",
   "execution_count": 10,
   "metadata": {},
   "outputs": [
    {
     "name": "stdout",
     "output_type": "stream",
     "text": [
      "['Questions', 'Python', 'Interview']\n"
     ]
    }
   ],
   "source": [
    "subjects=['Python','Interview','Questions']\n",
    "subjects.sort(reverse=True)\n",
    "print(subjects)"
   ]
  },
  {
   "cell_type": "code",
   "execution_count": 14,
   "metadata": {},
   "outputs": [
    {
     "name": "stdout",
     "output_type": "stream",
     "text": [
      "{'coding', 'beginners', 'for', 'python', 'tips'}\n",
      "5\n",
      "These are the best Python coding tips.\n",
      "These are the best Python coding tips not Java tips.\n"
     ]
    }
   ],
   "source": [
    "objects = {\"python\", \"coding\", \"tips\", \"for\", \"beginners\"}\n",
    "# Print set.\n",
    "print(objects)\n",
    "print(len(objects)) \n",
    "# Use of \"in\" keyword.\n",
    "if \"tips\" in objects:\n",
    " print(\"These are the best Python coding tips.\")\n",
    "# Use of \"not in\" keyword.\n",
    "if \"Java tips\" not in objects:\n",
    " print(\"These are the best Python coding tips not Java tips.\")"
   ]
  },
  {
   "cell_type": "code",
   "execution_count": 23,
   "metadata": {},
   "outputs": [
    {
     "name": "stdout",
     "output_type": "stream",
     "text": [
      "Enter the number of elements to be inserted: 3\n",
      "Enter element: 10\n",
      "Enter element: 20\n",
      "Enter element: 30\n",
      "Average of elements in the list 20.0\n"
     ]
    }
   ],
   "source": [
    "n=int(input(\"Enter the number of elements to be inserted: \"))\n",
    "a=[]\n",
    "for i in range(0,n):\n",
    " elem=int(input(\"Enter element: \"))\n",
    " a.append(elem)\n",
    "avg=sum(a)/n\n",
    "print(\"Average of elements in the list\",avg)"
   ]
  },
  {
   "cell_type": "code",
   "execution_count": 4,
   "metadata": {},
   "outputs": [
    {
     "name": "stdout",
     "output_type": "stream",
     "text": [
      "Enter :23\n",
      "enter1:34\n",
      "57\n"
     ]
    }
   ],
   "source": [
    "n=int(input(\"Enter :\"))\n",
    "m=int(input(\"enter1:\"))\n",
    "c=n + m\n",
    "print(c)"
   ]
  },
  {
   "cell_type": "code",
   "execution_count": null,
   "metadata": {},
   "outputs": [],
   "source": []
  }
 ],
 "metadata": {
  "kernelspec": {
   "display_name": "Python 3",
   "language": "python",
   "name": "python3"
  },
  "language_info": {
   "codemirror_mode": {
    "name": "ipython",
    "version": 3
   },
   "file_extension": ".py",
   "mimetype": "text/x-python",
   "name": "python",
   "nbconvert_exporter": "python",
   "pygments_lexer": "ipython3",
   "version": "3.9.2"
  }
 },
 "nbformat": 4,
 "nbformat_minor": 4
}
